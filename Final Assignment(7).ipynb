{
 "cells": [
  {
   "cell_type": "markdown",
   "id": "1ef0514c-41f6-4143-90ab-eb757e923edd",
   "metadata": {
    "tags": []
   },
   "source": [
    "## Question 1: Use yfinance to Extract Stock Data"
   ]
  },
  {
   "cell_type": "markdown",
   "id": "cc9207dd-b745-44c9-96af-7f8156d1688c",
   "metadata": {},
   "source": [
    "Using the Ticker function enter the ticker symbol of the stock we want to extract data on to create a ticker object. The stock is Shopify and its ticker symbol is SHOP"
   ]
  },
  {
   "cell_type": "code",
   "execution_count": null,
   "id": "fc013a99-4c35-4120-b755-e86e787f8ffc",
   "metadata": {},
   "outputs": [],
   "source": [
    "shopify = yf.Ticker(\"SHOP\") "
   ]
  },
  {
   "cell_type": "markdown",
   "id": "8fe9d0d5-d24b-4203-a574-477012599f03",
   "metadata": {},
   "source": [
    "Using the ticker object and the function history extract stock information and save it in a dataframe named shopify_data. Set the period parameter to max so we get information for the maximum amount of time"
   ]
  },
  {
   "cell_type": "code",
   "execution_count": null,
   "id": "c96e039d-a274-4304-87b2-09f11d1bf066",
   "metadata": {},
   "outputs": [],
   "source": [
    "shopify_data = shopify.history (period=\"max\") "
   ]
  },
  {
   "cell_type": "markdown",
   "id": "a32795cd-e84c-4e41-a574-12465a16903c",
   "metadata": {},
   "source": [
    "Reset the index, save, and display the first five rows of the shopify_data dataframe using the head function. Take a screenshot of the results. "
   ]
  },
  {
   "cell_type": "code",
   "execution_count": null,
   "id": "3305c8f2-4710-4802-ae63-92066335f77f",
   "metadata": {},
   "outputs": [],
   "source": [
    "shopify_data.reset_index(inplace=True) \n",
    "shopify_data. head()"
   ]
  },
  {
   "cell_type": "markdown",
   "id": "59e55b23-5e91-4736-bd2e-8222ee54755f",
   "metadata": {
    "jp-MarkdownHeadingCollapsed": true,
    "tags": []
   },
   "source": [
    " \n",
    "  |    Date   |Open      |High     |Low       |Close    |Volume   |Dividends|Stock Splits | \n",
    " 0| 2015-05-20|17.000000 |17.000000| 17.000000|17.000000|O        |     0   |     O       |\n",
    " 1| 2015-05-21| 28.000000|28.740000| 24.110001|25.680000|12303900 |     0   |     0       |\n",
    " 2| 2015-05-22|26.070000 |31.100000| 26.000000|28.309999|2841200  |     O   |     0       |\n",
    " 3| 2015-05-26|29.799999 |30.340000| 29.080000|29.650000|820200   |     0   |     0       |\n",
    " 4| 2015-05-27| 30.670000|30.809999| 27.000000|27.500000|797600   |     0   |     0       |"
   ]
  },
  {
   "cell_type": "markdown",
   "id": "6cb7207b-27b0-4a35-9353-f23ce3963b6b",
   "metadata": {},
   "source": [
    "## Question 2: Extracting Tesla Revenue Data Using Webscraping"
   ]
  },
  {
   "cell_type": "markdown",
   "id": "3ee4d49b-bbc6-498f-ac8b-7332ef9d9841",
   "metadata": {},
   "source": [
    "Use the requests library to download the webpage https://www.macrotrends.net/stocks/charts/TSLA/tesla/revenue. Save the text of the response as a variable named html_data."
   ]
  },
  {
   "cell_type": "code",
   "execution_count": null,
   "id": "e6918d2b-7496-4ada-8a2b-e4aee00afbc5",
   "metadata": {},
   "outputs": [],
   "source": [
    "url = \"https://www.macrotrends.net/stocks/charts/TSLA/tesla/revenue\"\n",
    "html_data = requests.get(url).text"
   ]
  },
  {
   "cell_type": "markdown",
   "id": "0b904760-9a8d-44a9-88de-b3b947139486",
   "metadata": {},
   "source": [
    "Parse the html data using beautiful_soup."
   ]
  },
  {
   "cell_type": "code",
   "execution_count": null,
   "id": "735663d9-a573-4e02-a1be-6932f928e169",
   "metadata": {},
   "outputs": [],
   "source": [
    "soup = BeautifulSoup(html_data,\"html5lib\")"
   ]
  },
  {
   "cell_type": "markdown",
   "id": "2323ba09-24c2-47d0-b54c-73d7afad85d0",
   "metadata": {},
   "source": [
    "Using beautiful soup extract the table with Tesla Quarterly Revenue and store it into a dataframe named tesla_revenue. The dataframe should have columns Date and Revenue. Make sure the comma and dollar sign is removed from the Revenue column."
   ]
  },
  {
   "cell_type": "code",
   "execution_count": null,
   "id": "3934c6ab-75ed-40e4-833d-bb1b5eea5d39",
   "metadata": {},
   "outputs": [],
   "source": [
    "tesla_revenue = pd.DataFrame(columns=[\"Date\", \"Revenue\"])\n",
    "\n",
    "for row in soup.find_all(\"tbody\")[1].find_all(\"tr\"):\n",
    "    col = row.find_all(\"td\")\n",
    "    date = col[0].text\n",
    "    revenue = col[1].text\n",
    "    tesla_revenue = tesla_revenue.append({\"Date\":date, \"Revenue\":revenue}, ignore_index=True)\n",
    "\n",
    "tesla_revenue.head()"
   ]
  },
  {
   "cell_type": "markdown",
   "id": "8c0883f9-5bfa-4bc8-a69a-c870bb6da275",
   "metadata": {},
   "source": [
    "   | Date       | Revenue\n",
    "0  | 2021-12-31 | $17,719\n",
    "1  | 2021-09-30 | $13,757\n",
    "2  | 2021-06-30 | $11,958\n",
    "3  | 2021-03-31 | $10,389\n",
    "4  | 2020-12-31 | $10,744"
   ]
  },
  {
   "cell_type": "markdown",
   "id": "1b310c67-ce9a-454b-a7cc-0c76590dbe7e",
   "metadata": {},
   "source": [
    "Remove the comma and dollar sign from the Revenue column, for plotting purposes later."
   ]
  },
  {
   "cell_type": "code",
   "execution_count": null,
   "id": "2cddc6f3-6f21-408f-bad4-a355ed9798f2",
   "metadata": {},
   "outputs": [],
   "source": [
    "tesla_revenue[\"Revenue\"] = tesla_revenue['Revenue'].str.replace(',|\\$',\"\")"
   ]
  },
  {
   "cell_type": "markdown",
   "id": "23e55c35-98ed-47ba-88c0-d649eae8d40a",
   "metadata": {},
   "source": [
    "Remove any null or empty strings in the Revenue column."
   ]
  },
  {
   "cell_type": "code",
   "execution_count": null,
   "id": "57787472-7468-4c33-91f1-43a5e16b9263",
   "metadata": {},
   "outputs": [],
   "source": [
    "tesla_revenue.dropna(inplace=True)\n",
    "\n",
    "tesla_revenue = tesla_revenue[tesla_revenue['Revenue'] != \"\"]"
   ]
  },
  {
   "cell_type": "markdown",
   "id": "236b2226-2370-42ee-ba7c-a692dd48aa05",
   "metadata": {},
   "source": [
    "Display the last 5 row of the tesla_revenue dataframe using the tail function."
   ]
  },
  {
   "cell_type": "code",
   "execution_count": null,
   "id": "de143156-f458-4079-88b9-fcb9fdae3ebb",
   "metadata": {},
   "outputs": [],
   "source": [
    "tesla_revenue.tail()"
   ]
  },
  {
   "cell_type": "markdown",
   "id": "12d8e381-fc40-46d7-987c-874525c461b8",
   "metadata": {},
   "source": [
    "   |Date      |Revenue\n",
    "45 |2010-09-30|31\n",
    "46 |2010-06-30|28\n",
    "47 |2010-03-31|21\n",
    "49 |2009-09-30|46\n",
    "50 |2009-06-30|27"
   ]
  },
  {
   "cell_type": "markdown",
   "id": "1be6d5ad-965b-4622-839b-3ee0c9510068",
   "metadata": {
    "tags": []
   },
   "source": [
    "## Question 3: Extracting GameStop Stock Data Using yfinance "
   ]
  },
  {
   "cell_type": "markdown",
   "id": "7db2cf00-20d4-481f-a551-7f3a90636cc6",
   "metadata": {},
   "source": [
    "Using the Ticker function enter the ticker symbol of the stock we want to extract data on to create a ticker object. The stock is GameStop and its ticker symbol is GME."
   ]
  },
  {
   "cell_type": "code",
   "execution_count": null,
   "id": "8c46f358-e870-4f83-bc29-cb1d9d078938",
   "metadata": {},
   "outputs": [],
   "source": [
    "gme = yf.Ticker('GME')"
   ]
  },
  {
   "cell_type": "markdown",
   "id": "a1c27e63-a4bf-4d11-bde2-269fa3b60405",
   "metadata": {},
   "source": [
    "Using the ticker object and the function history extract stock information and save it in a dataframe named gme_data. Set the period parameter to max so we get information for the maximum amount of time."
   ]
  },
  {
   "cell_type": "code",
   "execution_count": null,
   "id": "9d405080-04fe-474c-8478-1ad28be2fa6c",
   "metadata": {},
   "outputs": [],
   "source": [
    "gme_data = gme.history(period=\"max\")"
   ]
  },
  {
   "cell_type": "markdown",
   "id": "e352f968-ab5f-40d1-8c3a-d37c4f832cc1",
   "metadata": {},
   "source": [
    "Reset the index using the reset_index(inplace=True) function on the gme_data DataFrame and display the first five rows of the gme_data dataframe using the head function. Take a screenshot of the results and code from the beginning of Question 3 to the results below."
   ]
  },
  {
   "cell_type": "code",
   "execution_count": null,
   "id": "b8f33167-429e-410b-afeb-1fb03c611dc8",
   "metadata": {},
   "outputs": [],
   "source": [
    "gme_data.reset_index(inplace=True)\n",
    "gme_data.head()"
   ]
  },
  {
   "cell_type": "markdown",
   "id": "44dd8f03-20d1-40fa-8266-61f25b677309",
   "metadata": {},
   "source": [
    "         Date  Open      High      Low       Close     Volue     Dividends  Stock Splits\n",
    "0  2002-02-13  6.480515  6.773401  6.413184  6.766667  19054000  0.0        0.0\n",
    "1  2002-02-14  6.850830  6.864296  6.682505  6.733002  2755400   0.0        0.0\n",
    "2  2002-02-15  6.733002  6.749834  6.632007  6.699337  2097400   0.0        0.0\n",
    "3  2002-02-19  6.665671  6.665671  6.312188  6.430016  1852600   0.0        0.0\n",
    "4  2002-02-20  6.463681  6.648839  6.413183  6.648839  1723200   0.0        0.0"
   ]
  },
  {
   "cell_type": "markdown",
   "id": "6f35423e-3a7b-4c06-b08d-b3af7c8f3cb8",
   "metadata": {},
   "source": [
    "## Question 4: Use Webscraping to Extract GME Revenue Data"
   ]
  },
  {
   "cell_type": "markdown",
   "id": "fd5828db-f4cb-49ac-aba9-95cbab117596",
   "metadata": {},
   "source": [
    "Use the requests library to download the webpage https://www.macrotrends.net/stocks/charts/GME/gamestop/revenue. Save the text of the response as a variable named html_data."
   ]
  },
  {
   "cell_type": "markdown",
   "id": "219a5f80-5116-4709-8aff-692053fa03bf",
   "metadata": {},
   "source": [
    "Display the last five rows of the gme_revenue dataframe using the tail function. Upload a screenshot of the results."
   ]
  },
  {
   "cell_type": "code",
   "execution_count": null,
   "id": "7245a154-b2ab-4f28-b4a7-fa5b4aa4f993",
   "metadata": {},
   "outputs": [],
   "source": [
    "url = \"https://cf-courses-data.s3.us.cloud-object-storage.appdomain.cloud/IBMDeveloperSkillsNetwork-PY0220EN-SkillsNetwork/labs/project/stock.html\"\n",
    "html_data = requests.get(url).text"
   ]
  },
  {
   "cell_type": "markdown",
   "id": "093d2030-0e21-47d5-b3cb-a220e43eb1b6",
   "metadata": {},
   "source": [
    "Parse the html data using beautiful_soup."
   ]
  },
  {
   "cell_type": "code",
   "execution_count": null,
   "id": "350da6bd-cd04-46dd-9f92-c5f8053339fa",
   "metadata": {},
   "outputs": [],
   "source": [
    "soup = BeautifulSoup(html_data,\"html5lib\")"
   ]
  },
  {
   "cell_type": "markdown",
   "id": "990f5e93-279d-4160-8982-ec92d087ef9c",
   "metadata": {},
   "source": [
    "Using beautiful soup extract the table with GameStop Quarterly Revenue and store it into a dataframe named gme_revenue. The dataframe should have columns Date and Revenue. Make sure the comma and dollar sign is removed from the Revenue column using a method similar to what you did in Question 2."
   ]
  },
  {
   "cell_type": "code",
   "execution_count": null,
   "id": "706e10e9-de6c-43aa-a9a0-21662e7e777e",
   "metadata": {},
   "outputs": [],
   "source": [
    "gme_revenue = pd.DataFrame(columns=[\"Date\", \"Revenue\"])\n",
    "\n",
    "for row in soup.find_all(\"tbody\")[1].find_all(\"tr\"):\n",
    "    col = row.find_all(\"td\")\n",
    "    date = col[0].text\n",
    "    revenue = col[1].text\n",
    "    gme_revenue = gme_revenue.append({\"Date\":date, \"Revenue\":revenue}, ignore_index=True)\n",
    "\n",
    "gme_revenue.head()"
   ]
  },
  {
   "cell_type": "markdown",
   "id": "3ad7b0a2-9cc0-45ff-be1b-ece03198b482",
   "metadata": {},
   "source": [
    "  |Date       | Revenue\n",
    "0 |2020-04-30 | $1,021\n",
    "1 |2020-01-31 | $2,194\n",
    "2 |2019-10-31 | $1,439\n",
    "3 |2019-07-31 | $1,286\n",
    "4 |2019-04-30 | $1,548"
   ]
  },
  {
   "cell_type": "markdown",
   "id": "1e7b7e96-dd8c-4fdb-aefc-5257fa2ae601",
   "metadata": {},
   "source": [
    "Removing symbols and nulls for plotting purposes later."
   ]
  },
  {
   "cell_type": "code",
   "execution_count": null,
   "id": "25f9362c-0833-4296-b53d-f9b77dde30f7",
   "metadata": {},
   "outputs": [],
   "source": [
    "gme_revenue[\"Revenue\"] = gme_revenue['Revenue'].str.replace(',|\\$',\"\")\n",
    "\n",
    "gme_revenue.dropna(inplace=True)\n",
    "\n",
    "gme_revenue = gme_revenue[gme_revenue['Revenue'] != \"\"]"
   ]
  },
  {
   "cell_type": "markdown",
   "id": "42b1f673-fd47-4bb2-8485-967678405b7d",
   "metadata": {},
   "source": [
    "Display the last five rows of the gme_revenue dataframe using the tail function. Take a screenshot of the results."
   ]
  },
  {
   "cell_type": "code",
   "execution_count": null,
   "id": "6d9a1a78-1e38-48f8-ab48-015cc2f993bb",
   "metadata": {},
   "outputs": [],
   "source": [
    "gme_revenue.tail()"
   ]
  },
  {
   "cell_type": "markdown",
   "id": "9cf6bd6d-d32b-4b5e-a90d-eca38091cfa8",
   "metadata": {},
   "source": [
    "   |Date      | Revenue\n",
    "57 |2006-01-31| 1667\n",
    "58 |2005-10-31| 534\n",
    "59 |2005-07-31| 416\n",
    "60 |2005-04-30| 475\n",
    "61 |2005-01-31| 709"
   ]
  },
  {
   "cell_type": "markdown",
   "id": "617ad3e8-1025-42b7-bfe6-52b2512cd80c",
   "metadata": {},
   "source": [
    "## Question 5: Plot Tesla Stock Graph"
   ]
  },
  {
   "cell_type": "markdown",
   "id": "f1204fe8-ab16-4b45-8ecb-94e232687f89",
   "metadata": {},
   "source": [
    "Use the make_graph function to graph the Tesla Stock Data, also provide a title for the graph. The structure to call the make_graph function is make_graph(tesla_data, tesla_revenue, 'Tesla'). Note the graph will only show data upto June 2021."
   ]
  },
  {
   "cell_type": "markdown",
   "id": "27bf3262-29f7-4091-bb29-928059da2e41",
   "metadata": {},
   "source": [
    "Use the make_graph function to graph the Tesla Stock Data, also provide a title for the graph."
   ]
  },
  {
   "cell_type": "code",
   "execution_count": null,
   "id": "8bc19d40-f81f-4026-afd8-39de320ea220",
   "metadata": {},
   "outputs": [],
   "source": [
    "make_graph(tesla_data, tesla_revenue, 'Tesla')"
   ]
  },
  {
   "cell_type": "markdown",
   "id": "0b5485bf-04e2-4c07-9bfb-5ca38e2633ae",
   "metadata": {},
   "source": [
    "## Question 6: Plot GameStop Stock Graph"
   ]
  },
  {
   "cell_type": "markdown",
   "id": "9cfddb07-9ed9-4b61-ad29-7be8f9b6b459",
   "metadata": {},
   "source": [
    "Use the make_graph function to graph the GameStop Stock Data, also provide a title for the graph. The structure to call the make_graph function is make_graph(gme_data, gme_revenue, 'GameStop'). Note the graph will only show data upto June 2021."
   ]
  },
  {
   "cell_type": "markdown",
   "id": "44a0d356-6ad0-417c-a63c-430777024271",
   "metadata": {},
   "source": [
    "Use the make_graph function to graph the GameStop Stock Data, also provide a title for the graph."
   ]
  },
  {
   "cell_type": "code",
   "execution_count": null,
   "id": "18a88f20-7dfa-4b58-8db7-307ed4b3db1c",
   "metadata": {},
   "outputs": [],
   "source": [
    "make_graph(gme_data, gme_revenue, 'GameStop')"
   ]
  }
 ],
 "metadata": {
  "kernelspec": {
   "display_name": "Python 3 (ipykernel)",
   "language": "python",
   "name": "python3"
  },
  "language_info": {
   "codemirror_mode": {
    "name": "ipython",
    "version": 3
   },
   "file_extension": ".py",
   "mimetype": "text/x-python",
   "name": "python",
   "nbconvert_exporter": "python",
   "pygments_lexer": "ipython3",
   "version": "3.11.3"
  }
 },
 "nbformat": 4,
 "nbformat_minor": 5
}
