{
 "cells": [
  {
   "cell_type": "markdown",
   "id": "1ef0514c-41f6-4143-90ab-eb757e923edd",
   "metadata": {
    "tags": []
   },
   "source": [
    "## Question 1: Use yfinance to Extract Stock Data"
   ]
  },
  {
   "cell_type": "markdown",
   "id": "ce6dce98-37e4-4f21-a6a2-9e9694438032",
   "metadata": {
    "tags": []
   },
   "source": [
    "Using the Ticker function enter the ticker symbol of the stock we want to extract data on to create a ticker object. The stock is Tesla and its ticker symbol is TSLA."
   ]
  },
  {
   "cell_type": "code",
   "execution_count": null,
   "id": "77ba4f88-cf2a-4cff-bb5b-1b6e79e3bb77",
   "metadata": {
    "tags": []
   },
   "outputs": [],
   "source": [
    "tesla = yf.Ticker('TSLA')"
   ]
  },
  {
   "cell_type": "markdown",
   "id": "8aa4ee45-4c91-49db-ab15-90cfd5e91117",
   "metadata": {},
   "source": [
    "Using the ticker object and the function history extract stock information and save it in a dataframe named tesla_data. Set the period parameter to max so we get information for the maximum amount of time."
   ]
  },
  {
   "cell_type": "code",
   "execution_count": null,
   "id": "997a09d4-4d0f-4248-b016-42b914132388",
   "metadata": {},
   "outputs": [],
   "source": [
    "tesla_data = tesla.history(period=\"max\")\n"
   ]
  },
  {
   "cell_type": "markdown",
   "id": "574c93f7-3b11-4f4e-a433-f22f9c0d611c",
   "metadata": {},
   "source": [
    "Reset the index using the reset_index(inplace=True) function on the tesla_data DataFrame and display the first five rows of the tesla_data dataframe using the head function. Take a screenshot of the results and code from the beginning of Question 1 to the results below."
   ]
  },
  {
   "cell_type": "code",
   "execution_count": null,
   "id": "d1153e93-c5f8-489f-875b-7954724c4a53",
   "metadata": {},
   "outputs": [],
   "source": [
    "tesla_data.reset_index(inplace=True)\n",
    "tesla_data.head()"
   ]
  },
  {
   "cell_type": "raw",
   "id": "8c4e708c-d677-40db-9dd9-de50b09bcbb4",
   "metadata": {},
   "source": [
    "      Date       Open   High    Low     Close   Volume   Dividends    Stock Splits\n",
    "0   2010-06-29  3.800   5.000   3.508   4.778   93831500   0          0.0\n",
    "1   2010-06-30  5.158   6.084   4.660   4.766   85935500   0          0.0\n",
    "2   2010-07-01  5.000   5.184   4.054   4.392   41094000   0          0.0\n",
    "3   2010-07-02  4.600   4.620   3.742   3.840   25699000   0          0.0\n",
    "4   2010-07-06  4.000   4.000   3.166   3.222   34334500   0          0.0"
   ]
  },
  {
   "cell_type": "markdown",
   "id": "6cb7207b-27b0-4a35-9353-f23ce3963b6b",
   "metadata": {},
   "source": [
    "## Question 2: Use Webscraping to Extract Tesla Revenue Data"
   ]
  },
  {
   "cell_type": "markdown",
   "id": "1c6ace20-87e5-4bf0-b5e1-c76788c23be8",
   "metadata": {},
   "source": [
    "Use the requests library to download the webpage https://www.macrotrends.net/stocks/charts/TSLA/tesla/revenue. Save the text of the response as a variable named html_data."
   ]
  },
  {
   "cell_type": "code",
   "execution_count": null,
   "id": "e6918d2b-7496-4ada-8a2b-e4aee00afbc5",
   "metadata": {},
   "outputs": [],
   "source": [
    "url = 'https://www.macrotrends.net/stocks/charts/TSLA/tesla/revenue'\n",
    "html_data = requests.get(url).text"
   ]
  },
  {
   "cell_type": "markdown",
   "id": "0b904760-9a8d-44a9-88de-b3b947139486",
   "metadata": {},
   "source": [
    "Parse the html data using beautiful_soup."
   ]
  },
  {
   "cell_type": "code",
   "execution_count": null,
   "id": "735663d9-a573-4e02-a1be-6932f928e169",
   "metadata": {},
   "outputs": [],
   "source": [
    "soup = BeautifulSoup(html_data,\"html5lib\")"
   ]
  },
  {
   "cell_type": "markdown",
   "id": "96ac8f68-9b22-47b8-863c-c2a2345abe57",
   "metadata": {},
   "source": [
    "Using beautiful soup extract the table with Tesla Quarterly Revenue and store it into a dataframe named tesla_revenue. The dataframe should have columns Date and Revenue. Make sure the comma and dollar sign is removed from the Revenue column."
   ]
  },
  {
   "cell_type": "code",
   "execution_count": null,
   "id": "3934c6ab-75ed-40e4-833d-bb1b5eea5d39",
   "metadata": {},
   "outputs": [],
   "source": [
    "tesla_revenue = pd.DataFrame(columns=['Date', 'Revenue'])\n",
    "\n",
    "for table in soup.find_all('table'):\n",
    "\n",
    "    if ('Tesla Quarterly Revenue' in table.find('th').text):\n",
    "        rows = table.find_all('tr')\n",
    "        \n",
    "        for row in rows:\n",
    "            col = row.find_all('td')\n",
    "            \n",
    "            if col != []:\n",
    "                date = col[0].text\n",
    "                revenue = col[1].text.replace(',','').replace('$','')\n",
    "\n",
    "                tesla_revenue = tesla_revenue.append({\"Date\":date, \"Revenue\":revenue}, ignore_index=True)"
   ]
  },
  {
   "cell_type": "markdown",
   "id": "d97330e8-d760-4bdb-8a71-adf0780bc722",
   "metadata": {},
   "source": [
    " Click here if you need help removing the dollar sign and comma\n",
    "\n",
    "\n",
    "   If you parsed the HTML table by row and column you can use the replace function on the string\n",
    "\n",
    "    revenue = col[1].text.replace(\"$\", \"\").replace(\",\", \"\")\n",
    "\n",
    "   If you use the read_html function you can use the replace function on the string representation of the column\n",
    "\n",
    "    tesla_revenue[\"Revenue\"] = tesla_revenue[\"Revenue\"].str.replace(\"$\", \"\").str.replace(\",\", \"\")\n",
    "\n",
    "Remove the rows in the dataframe that are empty strings or are NaN in the Revenue column. Print the entire tesla_revenue DataFrame to see if you have any."
   ]
  },
  {
   "cell_type": "code",
   "execution_count": null,
   "id": "3bc814f3-2b6c-4412-8638-4872198899f9",
   "metadata": {},
   "outputs": [],
   "source": [
    "tesla_revenue"
   ]
  },
  {
   "cell_type": "raw",
   "id": "8ec97c4c-bcf2-465b-b6f3-99f0d9e8d0a8",
   "metadata": {},
   "source": [
    " \tDate \tRevenue\n",
    "0 \t2020-12-31 \t10744\n",
    "1 \t2020-09-30 \t8771\n",
    "2 \t2020-06-30 \t6036\n",
    "3 \t2020-03-31 \t5985\n",
    "4 \t2019-12-31 \t7384\n",
    "5 \t2019-09-30 \t6303\n",
    "6 \t2019-06-30 \t6350\n",
    "7 \t2019-03-31 \t4541\n",
    "8 \t2018-12-31 \t7226\n",
    "9 \t2018-09-30 \t6824\n",
    "10 \t2018-06-30 \t4002\n",
    "11 \t2018-03-31 \t3409\n",
    "12 \t2017-12-31 \t3288\n",
    "13 \t2017-09-30 \t2985\n",
    "14 \t2017-06-30 \t2790\n",
    "15 \t2017-03-31 \t2696\n",
    "16 \t2016-12-31 \t2285\n",
    "17 \t2016-09-30 \t2298\n",
    "18 \t2016-06-30 \t1270\n",
    "19 \t2016-03-31 \t1147\n",
    "20 \t2015-12-31 \t1214\n",
    "21 \t2015-09-30 \t937\n",
    "22 \t2015-06-30 \t955\n",
    "23 \t2015-03-31 \t940\n",
    "24 \t2014-12-31 \t957\n",
    "25 \t2014-09-30 \t852\n",
    "26 \t2014-06-30 \t769\n",
    "27 \t2014-03-31 \t621\n",
    "28 \t2013-12-31 \t615\n",
    "29 \t2013-09-30 \t431\n",
    "30 \t2013-06-30 \t405\n",
    "31 \t2013-03-31 \t562\n",
    "32 \t2012-12-31 \t306\n",
    "33 \t2012-09-30 \t50\n",
    "34 \t2012-06-30 \t27\n",
    "35 \t2012-03-31 \t30\n",
    "36 \t2011-12-31 \t39\n",
    "37 \t2011-09-30 \t58\n",
    "38 \t2011-06-30 \t58\n",
    "39 \t2011-03-31 \t49\n",
    "40 \t2010-12-31 \t36\n",
    "41 \t2010-09-30 \t31\n",
    "42 \t2010-06-30 \t28\n",
    "43 \t2010-03-31 \t21\n",
    "44 \t2009-12-31 \t\n",
    "45 \t2009-09-30 \t46\n",
    "46 \t2009-06-30 \t27\n",
    "47 \t2008-12-31 \t"
   ]
  },
  {
   "cell_type": "code",
   "execution_count": null,
   "id": "d8f4e0f7-d2fc-4bc6-bb4e-884b48631006",
   "metadata": {},
   "outputs": [],
   "source": [
    "tesla_revenue = tesla_revenue[tesla_revenue['Revenue'].astype(bool)]"
   ]
  },
  {
   "cell_type": "markdown",
   "id": "6b62e093-5933-4b90-be36-8f7d5e497f16",
   "metadata": {},
   "source": [
    " Click here if you need help removing the Nan or empty strings\n",
    "\n",
    "\n",
    "       If you have NaN in the Revenue column\n",
    "\n",
    "          tesla_revenue.dropna(inplace=True)\n",
    "\n",
    "       If you have emtpty string in the Revenue column\n",
    "\n",
    "          tesla_revenue = tesla_revenue[tesla_revenue['Revenue'] != \"\"]\n",
    "\n",
    "Display the last 5 row of the tesla_revenue dataframe using the tail function. Take a screenshot of the results."
   ]
  },
  {
   "cell_type": "code",
   "execution_count": null,
   "id": "f844a5d1-6053-49db-bb01-53ce5ebef783",
   "metadata": {},
   "outputs": [],
   "source": [
    "tesla_revenue.tail()"
   ]
  },
  {
   "cell_type": "raw",
   "id": "df5067d4-6d7f-4d58-a86b-74b4cf1afc21",
   "metadata": {},
   "source": [
    "    Date      Revenue\n",
    "41 \t2010-09-30 \t31\n",
    "42 \t2010-06-30 \t28\n",
    "43 \t2010-03-31 \t21\n",
    "45 \t2009-09-30 \t46\n",
    "46 \t2009-06-30 \t27"
   ]
  },
  {
   "cell_type": "markdown",
   "id": "1be6d5ad-965b-4622-839b-3ee0c9510068",
   "metadata": {},
   "source": [
    "## Question 3: Use yfinance to Extract Stock Data"
   ]
  },
  {
   "cell_type": "markdown",
   "id": "7db2cf00-20d4-481f-a551-7f3a90636cc6",
   "metadata": {},
   "source": [
    "Using the Ticker function enter the ticker symbol of the stock we want to extract data on to create a ticker object. The stock is GameStop and its ticker symbol is GME."
   ]
  },
  {
   "cell_type": "code",
   "execution_count": null,
   "id": "8c46f358-e870-4f83-bc29-cb1d9d078938",
   "metadata": {},
   "outputs": [],
   "source": [
    "gme = yf.Ticker('GME')"
   ]
  },
  {
   "cell_type": "markdown",
   "id": "e352f968-ab5f-40d1-8c3a-d37c4f832cc1",
   "metadata": {},
   "source": [
    "Reset the index using the reset_index(inplace=True) function on the gme_data DataFrame and display the first five rows of the gme_data dataframe using the head function. Take a screenshot of the results and code from the beginning of Question 3 to the results below."
   ]
  },
  {
   "cell_type": "code",
   "execution_count": null,
   "id": "b8f33167-429e-410b-afeb-1fb03c611dc8",
   "metadata": {},
   "outputs": [],
   "source": [
    "gme_data.reset_index(inplace=True)\n",
    "gme_data.head()"
   ]
  },
  {
   "cell_type": "raw",
   "id": "b5ba6d9c-52aa-4b7a-ad59-c82425eeb352",
   "metadata": {},
   "source": [
    "          Date  Open        High        Low        Close         Volume  Dividends         Stock Splits\n",
    "0 \t2002-02-13 \t6.480513 \t6.773399 \t6.413183 \t6.766666 \t19054000  \t0.0             0.0\n",
    "1 \t2002-02-14 \t6.850831 \t6.864296 \t6.682506 \t6.733003 \t2755400   \t0.0             0.0  \n",
    "2 \t2002-02-15 \t6.733001 \t6.749833 \t6.632006 \t6.699336 \t2097400   \t0.0             0.0\n",
    "3 \t2002-02-19 \t6.665671 \t6.665671 \t6.312189 \t6.430017 \t1852600   \t0.0             0.0\n",
    "4 \t2002-02-20 \t6.463681 \t6.648838 \t6.413183 \t6.648838 \t1723200   \t0.0             0.0"
   ]
  },
  {
   "cell_type": "markdown",
   "id": "6f35423e-3a7b-4c06-b08d-b3af7c8f3cb8",
   "metadata": {},
   "source": [
    "## Question 4: Use Webscraping to Extract GME Revenue Data"
   ]
  },
  {
   "cell_type": "markdown",
   "id": "fd5828db-f4cb-49ac-aba9-95cbab117596",
   "metadata": {},
   "source": [
    "Use the requests library to download the webpage https://www.macrotrends.net/stocks/charts/GME/gamestop/revenue. Save the text of the response as a variable named html_data."
   ]
  },
  {
   "cell_type": "code",
   "execution_count": null,
   "id": "7245a154-b2ab-4f28-b4a7-fa5b4aa4f993",
   "metadata": {},
   "outputs": [],
   "source": [
    "url = 'https://www.macrotrends.net/stocks/charts/GME/gamestop/revenue'\n",
    "html_data = requests.get(url).text"
   ]
  },
  {
   "cell_type": "markdown",
   "id": "093d2030-0e21-47d5-b3cb-a220e43eb1b6",
   "metadata": {},
   "source": [
    "Parse the html data using beautiful_soup."
   ]
  },
  {
   "cell_type": "code",
   "execution_count": null,
   "id": "350da6bd-cd04-46dd-9f92-c5f8053339fa",
   "metadata": {},
   "outputs": [],
   "source": [
    "soup = BeautifulSoup(html_data,\"html5lib\")"
   ]
  },
  {
   "cell_type": "markdown",
   "id": "990f5e93-279d-4160-8982-ec92d087ef9c",
   "metadata": {},
   "source": [
    "Using beautiful soup extract the table with GameStop Quarterly Revenue and store it into a dataframe named gme_revenue. The dataframe should have columns Date and Revenue. Make sure the comma and dollar sign is removed from the Revenue column using a method similar to what you did in Question 2."
   ]
  },
  {
   "cell_type": "code",
   "execution_count": null,
   "id": "706e10e9-de6c-43aa-a9a0-21662e7e777e",
   "metadata": {},
   "outputs": [],
   "source": [
    "gme_revenue = pd.DataFrame(columns=['Date', 'Revenue'])\n",
    "\n",
    "for table in soup.find_all('table'):\n",
    "\n",
    "    if ('GameStop Quarterly Revenue' in table.find('th').text):\n",
    "        rows = table.find_all('tr')\n",
    "        \n",
    "        for row in rows:\n",
    "            col = row.find_all('td')\n",
    "            \n",
    "            if col != []:\n",
    "                date = col[0].text\n",
    "                revenue = col[1].text.replace(',','').replace('$','')\n",
    "\n",
    "                gme_revenue = gme_revenue.append({\"Date\":date, \"Revenue\":revenue}, ignore_index=True)"
   ]
  },
  {
   "cell_type": "markdown",
   "id": "fb0cb169-6085-4762-8bea-13cca1e71a6e",
   "metadata": {},
   "source": [
    "Display the last five rows of the gme_revenue dataframe using the tail function. Take a screenshot of the results."
   ]
  },
  {
   "cell_type": "code",
   "execution_count": null,
   "id": "7fc78c1b-4a37-4d6a-a257-a80bb375695d",
   "metadata": {},
   "outputs": [],
   "source": [
    "gme_revenue.tail()"
   ]
  },
  {
   "cell_type": "raw",
   "id": "38ab9591-a826-4bb2-8984-b0bead7f2988",
   "metadata": {},
   "source": [
    "     Date       Revenue\n",
    "59 \t2006-01-31 \t1667\n",
    "60 \t2005-10-31 \t534\n",
    "61 \t2005-07-31 \t416\n",
    "62 \t2005-04-30 \t475\n",
    "63 \t2005-01-31 \t709"
   ]
  },
  {
   "cell_type": "markdown",
   "id": "4e10c648-eb8f-4890-9197-7f669725adda",
   "metadata": {},
   "source": [
    "## Question 5: Plot Tesla Stock Graph"
   ]
  },
  {
   "cell_type": "markdown",
   "id": "5f7ca287-e457-4bf8-afa9-aaaa68e22e7e",
   "metadata": {},
   "source": [
    "Use the make_graph function to graph the Tesla Stock Data, also provide a title for the graph. The structure to call the make_graph function is make_graph(tesla_data, tesla_revenue, 'Tesla')"
   ]
  },
  {
   "cell_type": "code",
   "execution_count": null,
   "id": "f4e163b8-9613-44c2-8b14-3c84baa96d09",
   "metadata": {},
   "outputs": [],
   "source": [
    "make_graph(tesla_data[['Date','Close']], tesla_revenue, 'Tesla')"
   ]
  },
  {
   "cell_type": "markdown",
   "id": "0b5485bf-04e2-4c07-9bfb-5ca38e2633ae",
   "metadata": {},
   "source": [
    "## Question 6: Plot GameStop Stock Graph"
   ]
  },
  {
   "cell_type": "markdown",
   "id": "7574a954-3034-4814-bc9d-e068cd854abc",
   "metadata": {},
   "source": [
    "Use the make_graph function to graph the GameStop Stock Data, also provide a title for the graph. The structure to call the make_graph function is make_graph(gme_data, gme_revenue, 'GameStop')."
   ]
  },
  {
   "cell_type": "code",
   "execution_count": null,
   "id": "f7e364cf-f56a-4d34-9887-cb2857566abb",
   "metadata": {},
   "outputs": [],
   "source": [
    "make_graph(gme_data[['Date','Close']], gme_revenue, 'GameStop')"
   ]
  }
 ],
 "metadata": {
  "kernelspec": {
   "display_name": "Python 3 (ipykernel)",
   "language": "python",
   "name": "python3"
  },
  "language_info": {
   "codemirror_mode": {
    "name": "ipython",
    "version": 3
   },
   "file_extension": ".py",
   "mimetype": "text/x-python",
   "name": "python",
   "nbconvert_exporter": "python",
   "pygments_lexer": "ipython3",
   "version": "3.11.3"
  }
 },
 "nbformat": 4,
 "nbformat_minor": 5
}
