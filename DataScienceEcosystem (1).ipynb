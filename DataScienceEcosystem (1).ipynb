{
 "cells": [
  {
   "cell_type": "markdown",
   "id": "107131b9-c424-4469-9d63-2be652e429ba",
   "metadata": {},
   "source": [
    "## Data Science Tools and Ecosystem \n",
    " "
   ]
  },
  {
   "cell_type": "markdown",
   "id": "4a8fa75a-7af8-45de-a1b4-12198c22dd74",
   "metadata": {},
   "source": [
    "In this notebook, Data Science Tools and Ecosystem are summarized."
   ]
  },
  {
   "cell_type": "markdown",
   "id": "b73b30ac-9e59-424f-ae03-e2675c208f75",
   "metadata": {},
   "source": [
    "Some of the popular languages that Data Scientists use are:\n",
    "1. Python \n",
    "2. SQl\n",
    "3. R\n",
    "4. Julia"
   ]
  },
  {
   "cell_type": "markdown",
   "id": "f549b189-02b6-4a07-8b7c-0b548d6f00e1",
   "metadata": {},
   "source": [
    "Some of the commonly used libraries used by Data Scientists include:\n",
    "\n",
    "1. NumPy\n",
    "2. SciPy\n",
    "3. Pandas\n",
    "4. Matplotlib\n",
    "5. Keras"
   ]
  },
  {
   "cell_type": "raw",
   "id": "8a80da1b-ced4-4aa0-8d49-1794c42952b7",
   "metadata": {},
   "source": [
    "Data Science Tools\n",
    "\n",
    "SAS\n",
    "Apache Hadoop\n",
    "TensorFlow\n",
    "Apache Spark\n",
    "Jupyter Notebook\n",
    "Matplotlib"
   ]
  },
  {
   "cell_type": "markdown",
   "id": "13299612-1452-46ef-b1b8-5e42055a3a55",
   "metadata": {},
   "source": [
    "### Below are a few examples of evaluating arithmetic expressions in Python"
   ]
  },
  {
   "cell_type": "code",
   "execution_count": 1,
   "id": "f18058ff-00b9-404d-9738-941e3c1437d4",
   "metadata": {
    "tags": []
   },
   "outputs": [
    {
     "data": {
      "text/plain": [
       "17"
      ]
     },
     "execution_count": 1,
     "metadata": {},
     "output_type": "execute_result"
    }
   ],
   "source": [
    "#this is a common arithmetic example to multiply and then add integers \n",
    "(3*4)+5"
   ]
  },
  {
   "cell_type": "code",
   "execution_count": 2,
   "id": "108d1db6-465f-48fd-8f62-258f2d2128e1",
   "metadata": {
    "tags": []
   },
   "outputs": [
    {
     "data": {
      "text/plain": [
       "3.3333333333333335"
      ]
     },
     "execution_count": 2,
     "metadata": {},
     "output_type": "execute_result"
    }
   ],
   "source": [
    "#this will convert 200 minutes to hours by diving by 60\n",
    "200/60"
   ]
  },
  {
   "cell_type": "markdown",
   "id": "80b81516-58a6-44fa-834d-679cc65ddd63",
   "metadata": {},
   "source": [
    "Objectives:\n",
    "* List popular languages for Data Science\n",
    "* List popular libraries for Data Science\n",
    "* List of will known Data Science Tools\n",
    "* How to provide comments in the cell"
   ]
  },
  {
   "cell_type": "markdown",
   "id": "32fd1d28-e8a5-40e9-b6d1-e53627f54017",
   "metadata": {
    "tags": []
   },
   "source": [
    "## Author"
   ]
  },
  {
   "cell_type": "markdown",
   "id": "6dc3773e-69c3-4194-ab8b-8109d6e42274",
   "metadata": {
    "tags": []
   },
   "source": [
    "Ibtihal Albalawi"
   ]
  }
 ],
 "metadata": {
  "kernelspec": {
   "display_name": "Python 3 (ipykernel)",
   "language": "python",
   "name": "python3"
  },
  "language_info": {
   "codemirror_mode": {
    "name": "ipython",
    "version": 3
   },
   "file_extension": ".py",
   "mimetype": "text/x-python",
   "name": "python",
   "nbconvert_exporter": "python",
   "pygments_lexer": "ipython3",
   "version": "3.11.3"
  }
 },
 "nbformat": 4,
 "nbformat_minor": 5
}
